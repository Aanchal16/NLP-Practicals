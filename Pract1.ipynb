{
  "nbformat": 4,
  "nbformat_minor": 0,
  "metadata": {
    "colab": {
      "name": "Pract1.ipynb",
      "provenance": []
    },
    "kernelspec": {
      "name": "python3",
      "display_name": "Python 3"
    },
    "language_info": {
      "name": "python"
    }
  },
  "cells": [
    {
      "cell_type": "code",
      "metadata": {
        "id": "xuv6A2ep8lrV"
      },
      "source": [
        "import snscrape.modules.twitter as sntwitter\n",
        "import pandas as pd\n",
        "tweets_list1 = []\n",
        "tweets_list2 = []"
      ],
      "execution_count": 1,
      "outputs": []
    },
    {
      "cell_type": "code",
      "metadata": {
        "id": "McSiEeMl8u6f"
      },
      "source": [
        "for i,tweet in enumerate(sntwitter.TwitterSearchScraper('from:msDhoni').get_items()):\n",
        "    if i>10:\n",
        "        break\n",
        "    tweets_list1.append([tweet.date, tweet.id, tweet.content,tweet.username])\n",
        "\n",
        "tweets_df1 = pd.DataFrame(tweets_list1, columns=['Datetime', 'Tweet Id', 'Text','NAME'])\n",
        "pd.set_option('max_colwidth', 400)\n",
        "json = tweets_df1.to_json()\n",
        "tweets_df1\n",
        "#print(json)"
      ],
      "execution_count": null,
      "outputs": []
    },
    {
      "cell_type": "code",
      "metadata": {
        "id": "RFCcWnle9FgB"
      },
      "source": [
        "for j,tweet1 in enumerate(sntwitter.TwitterSearchScraper('#papakipari since:2021-01-01 until:2021-03-31').get_items()):\n",
        "    if j>10:\n",
        "        break\n",
        "    tweets_list2.append([tweet1.date, tweet1.id, tweet1.content, tweet1.username])\n",
        "    \n",
        "tweets_df2 = pd.DataFrame(tweets_list2, columns=['Datetime', 'Tweet Id', 'Text', 'Username'])\n",
        "pd.set_option('max_colwidth', 400)\n",
        "json1 = tweets_df2.to_json()\n",
        "tweets_df2\n",
        "#print(json1)"
      ],
      "execution_count": null,
      "outputs": []
    },
    {
      "cell_type": "code",
      "metadata": {
        "id": "Lx6DMw3B9JZQ"
      },
      "source": [
        ""
      ],
      "execution_count": null,
      "outputs": []
    }
  ]
}