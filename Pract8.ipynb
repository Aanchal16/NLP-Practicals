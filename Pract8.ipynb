{
  "nbformat": 4,
  "nbformat_minor": 0,
  "metadata": {
    "colab": {
      "name": "Pract8.ipynb",
      "provenance": []
    },
    "kernelspec": {
      "name": "python3",
      "display_name": "Python 3"
    },
    "language_info": {
      "name": "python"
    }
  },
  "cells": [
    {
      "cell_type": "markdown",
      "metadata": {
        "id": "qFpxX_cwxLqU"
      },
      "source": [
        "Practical 8 : Implement PoS Tagging on text"
      ]
    },
    {
      "cell_type": "code",
      "metadata": {
        "colab": {
          "base_uri": "https://localhost:8080/"
        },
        "id": "K-CeQAFjougs",
        "outputId": "26c3cc8a-069d-455c-aa7b-1c7f2f2bd6dd"
      },
      "source": [
        "import nltk\n",
        "nltk.download('averaged_perceptron_tagger')\n",
        "from nltk.tag import pos_tag\n",
        "nltk.download('inaugural')\n",
        "from nltk.corpus import inaugural"
      ],
      "execution_count": 6,
      "outputs": [
        {
          "output_type": "stream",
          "name": "stdout",
          "text": [
            "[nltk_data] Downloading package averaged_perceptron_tagger to\n",
            "[nltk_data]     /root/nltk_data...\n",
            "[nltk_data]   Package averaged_perceptron_tagger is already up-to-\n",
            "[nltk_data]       date!\n",
            "[nltk_data] Downloading package inaugural to /root/nltk_data...\n",
            "[nltk_data]   Package inaugural is already up-to-date!\n"
          ]
        }
      ]
    },
    {
      "cell_type": "code",
      "metadata": {
        "colab": {
          "base_uri": "https://localhost:8080/"
        },
        "id": "BAhup_SRxcMy",
        "outputId": "00236c45-f329-4863-c8c7-b07bacf153e9"
      },
      "source": [
        "#calling the words() method to retrieve the tokenised text of all speeches.\n",
        "inaugural_tokens=inaugural.words()\n",
        "print(inaugural_tokens)"
      ],
      "execution_count": 7,
      "outputs": [
        {
          "output_type": "stream",
          "name": "stdout",
          "text": [
            "['Fellow', '-', 'Citizens', 'of', 'the', 'Senate', ...]\n"
          ]
        }
      ]
    },
    {
      "cell_type": "code",
      "metadata": {
        "colab": {
          "base_uri": "https://localhost:8080/"
        },
        "id": "xOOj2L9Xxck4",
        "outputId": "8e5ee7d8-b1fe-40ff-f4fe-c19d43889803"
      },
      "source": [
        "#looking at the tokens from the last inaugural, the one made by President Trump\n",
        "inaugural_tokens_trump = inaugural.words(inaugural.fileids()[0:-1])\n",
        "print(inaugural_tokens_trump)"
      ],
      "execution_count": 8,
      "outputs": [
        {
          "output_type": "stream",
          "name": "stdout",
          "text": [
            "['Fellow', '-', 'Citizens', 'of', 'the', 'Senate', ...]\n"
          ]
        }
      ]
    },
    {
      "cell_type": "code",
      "metadata": {
        "colab": {
          "base_uri": "https://localhost:8080/"
        },
        "id": "Lz6Z4bNkymEv",
        "outputId": "8622632b-f4b9-4eda-f8d0-b6c244844b3f"
      },
      "source": [
        "#assigning POS-tags to all speeches using NLTK’s pos_tag() \n",
        "tagged_inaugural_tokens = nltk.pos_tag(inaugural_tokens)\n",
        "tagged_inaugural_tokens[:20]"
      ],
      "execution_count": 9,
      "outputs": [
        {
          "output_type": "execute_result",
          "data": {
            "text/plain": [
              "[('Fellow', 'NNP'),\n",
              " ('-', ':'),\n",
              " ('Citizens', 'NNS'),\n",
              " ('of', 'IN'),\n",
              " ('the', 'DT'),\n",
              " ('Senate', 'NNP'),\n",
              " ('and', 'CC'),\n",
              " ('of', 'IN'),\n",
              " ('the', 'DT'),\n",
              " ('House', 'NNP'),\n",
              " ('of', 'IN'),\n",
              " ('Representatives', 'NNPS'),\n",
              " (':', ':'),\n",
              " ('Among', 'IN'),\n",
              " ('the', 'DT'),\n",
              " ('vicissitudes', 'NNS'),\n",
              " ('incident', 'NN'),\n",
              " ('to', 'TO'),\n",
              " ('life', 'NN'),\n",
              " ('no', 'DT')]"
            ]
          },
          "metadata": {},
          "execution_count": 9
        }
      ]
    },
    {
      "cell_type": "code",
      "metadata": {
        "colab": {
          "base_uri": "https://localhost:8080/"
        },
        "id": "wdNTeq49yqOO",
        "outputId": "aca7bbda-5f84-46b9-f382-999a734bfbaa"
      },
      "source": [
        "#setting up list to hold specific part of speech such as nouns\n",
        "nouns = [] \n",
        "nouns = [word for (word, pos) in tagged_inaugural_tokens if (pos == 'NN' or pos == 'NNS')] \n",
        "nouns[:20]"
      ],
      "execution_count": 10,
      "outputs": [
        {
          "output_type": "execute_result",
          "data": {
            "text/plain": [
              "['Citizens',\n",
              " 'vicissitudes',\n",
              " 'incident',\n",
              " 'life',\n",
              " 'event',\n",
              " 'anxieties',\n",
              " 'notification',\n",
              " 'order',\n",
              " 'day',\n",
              " 'month',\n",
              " 'hand',\n",
              " 'Country',\n",
              " 'voice',\n",
              " 'veneration',\n",
              " 'love',\n",
              " 'retreat',\n",
              " 'predilection',\n",
              " 'flattering',\n",
              " 'hopes',\n",
              " 'decision']"
            ]
          },
          "metadata": {},
          "execution_count": 10
        }
      ]
    },
    {
      "cell_type": "code",
      "metadata": {
        "colab": {
          "base_uri": "https://localhost:8080/"
        },
        "id": "ZHGDXrGSyrXe",
        "outputId": "d108022b-24c5-4f59-f60c-4deae773a300"
      },
      "source": [
        "#setting up list to hold Determiner\n",
        "Determiners = [] \n",
        "Determiners = [word for (word, pos) in tagged_inaugural_tokens if (pos == 'DT')] \n",
        "Determiners[:20]"
      ],
      "execution_count": 11,
      "outputs": [
        {
          "output_type": "execute_result",
          "data": {
            "text/plain": [
              "['the',\n",
              " 'the',\n",
              " 'the',\n",
              " 'no',\n",
              " 'that',\n",
              " 'the',\n",
              " 'the',\n",
              " 'the',\n",
              " 'the',\n",
              " 'a',\n",
              " 'the',\n",
              " 'an',\n",
              " 'the',\n",
              " 'a',\n",
              " 'every',\n",
              " 'the',\n",
              " 'the',\n",
              " 'the',\n",
              " 'the',\n",
              " 'the']"
            ]
          },
          "metadata": {},
          "execution_count": 11
        }
      ]
    }
  ]
}