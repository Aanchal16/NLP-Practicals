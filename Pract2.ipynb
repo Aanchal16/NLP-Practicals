{
  "nbformat": 4,
  "nbformat_minor": 0,
  "metadata": {
    "colab": {
      "name": "Pract2.ipynb",
      "provenance": []
    },
    "kernelspec": {
      "name": "python3",
      "display_name": "Python 3"
    },
    "language_info": {
      "name": "python"
    }
  },
  "cells": [
    {
      "cell_type": "code",
      "metadata": {
        "id": "P-tIwCGHZXCT"
      },
      "source": [
        "import re"
      ],
      "execution_count": 9,
      "outputs": []
    },
    {
      "cell_type": "code",
      "metadata": {
        "id": "GzfWMDMZZekS"
      },
      "source": [
        "def N_Grams(text,n): \n",
        "    # split sentences into tokens\n",
        "    tokens=re.split(\"\\\\s+\",text)\n",
        "    ngrams=[] \n",
        "    # collect the n-grams\n",
        "    for i in range(len(tokens)-n+1):\n",
        "     temp=[tokens[j] for j in range(i,i+n)]\n",
        "     ngrams.append(\" \".join(temp)) \n",
        "    return ngrams"
      ],
      "execution_count": 10,
      "outputs": []
    },
    {
      "cell_type": "code",
      "metadata": {
        "id": "IobT31_HZjyu"
      },
      "source": [
        "text1=\"We will now implement n-gram language model\";"
      ],
      "execution_count": 11,
      "outputs": []
    },
    {
      "cell_type": "code",
      "metadata": {
        "colab": {
          "base_uri": "https://localhost:8080/"
        },
        "id": "yM6Een-wZrvt",
        "outputId": "82947d1c-9c9c-4200-d405-0e61d111937e"
      },
      "source": [
        "N_Grams(text1,1)"
      ],
      "execution_count": 12,
      "outputs": [
        {
          "output_type": "execute_result",
          "data": {
            "text/plain": [
              "['We', 'will', 'now', 'implement', 'n-gram', 'language', 'model']"
            ]
          },
          "metadata": {},
          "execution_count": 12
        }
      ]
    },
    {
      "cell_type": "code",
      "metadata": {
        "colab": {
          "base_uri": "https://localhost:8080/"
        },
        "id": "ZmY-7bLwZuPB",
        "outputId": "fcf2d2f9-cc94-4d56-a94d-8b077dc1da63"
      },
      "source": [
        "N_Grams(text1,2)\n"
      ],
      "execution_count": 13,
      "outputs": [
        {
          "output_type": "execute_result",
          "data": {
            "text/plain": [
              "['We will',\n",
              " 'will now',\n",
              " 'now implement',\n",
              " 'implement n-gram',\n",
              " 'n-gram language',\n",
              " 'language model']"
            ]
          },
          "metadata": {},
          "execution_count": 13
        }
      ]
    },
    {
      "cell_type": "code",
      "metadata": {
        "colab": {
          "base_uri": "https://localhost:8080/"
        },
        "id": "81uCpxDVZ5DC",
        "outputId": "e447a062-f26f-4490-8896-6afc007378f6"
      },
      "source": [
        "N_Grams(text1,3)"
      ],
      "execution_count": 14,
      "outputs": [
        {
          "output_type": "execute_result",
          "data": {
            "text/plain": [
              "['We will now',\n",
              " 'will now implement',\n",
              " 'now implement n-gram',\n",
              " 'implement n-gram language',\n",
              " 'n-gram language model']"
            ]
          },
          "metadata": {},
          "execution_count": 14
        }
      ]
    }
  ]
}